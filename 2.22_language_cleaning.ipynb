#可以以句子粒度进行语种检测
###pip install langdetect  
from langdetect import detect, detect_langs
chinese = '你好啊李银河！'
english = 'world is better now.'
duch = 'Analisar a mortalidade, em um ano de seguimento, de pacientes com fratura da extremidade proximal do fêmur submetidos a procedimento cirúrgico no hospital universitário da nossa instituição.'
mix = '我都无fuck可说了！'
chinese1 = 'motherfucker'
lang_list = [chinese, english, duch, mix, chinese1]
for lang in lang_list:
    print(detect(lang))
    print(detect_langs(lang))
