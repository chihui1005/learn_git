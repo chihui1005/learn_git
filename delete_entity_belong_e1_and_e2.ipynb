{
 "cells": [
  {
   "cell_type": "code",
   "execution_count": 22,
   "metadata": {},
   "outputs": [
    {
     "name": "stdout",
     "output_type": "stream",
     "text": [
      "1:gene_compound_treat.dict\n",
      "7683\n",
      "2:compound_protein_treat.dict\n",
      "0\n",
      "3:gene_disease_cause.dict\n",
      "344941\n",
      "4:gene_protein_express.dict\n",
      "739\n",
      "5:gene_gene_interact.dict\n",
      "924747\n",
      "6:gene_anatomy_locate.dict\n",
      "0\n",
      "7:drugs_disease_treat.dict\n",
      "3945\n",
      "8:disease_compound_cause.dict\n",
      "813\n",
      "9:disease_disease_coexist.dict\n",
      "467680\n",
      "10:drugs_protein_target.dict\n",
      "430\n",
      "11:protein_protein_interact.dict\n",
      "30057\n",
      "12:protein_disease_cause.dict\n",
      "77\n",
      "13:protein_organism_belong.dict\n",
      "0\n",
      "14:drugs_gene_target.dict\n",
      "40\n"
     ]
    }
   ],
   "source": [
    "import json, os\n",
    "#  有些实体归一之后既属于 e1 又属于 e2，目前的处理规则是将这部分数据删除\n",
    "file_folder_path = r\"./relation_dict_v2.0\"\n",
    "file_path_list = []\n",
    "for file_path_root,_,file_name_list in os.walk(file_folder_path):\n",
    "    for file_name in file_name_list:\n",
    "        if \".dict\" in file_name:\n",
    "            file_path_list.append(file_name)\n",
    "\n",
    "num = 0\n",
    "for file_name in file_path_list:\n",
    "    num = num + 1\n",
    "    print(str(num) + \":\" + file_name)\n",
    "    with open('./relation_dict_v2.0/' + file_name, 'r') as file, open('./relation_dict_v2.1/' + file_name, 'a') as fl:\n",
    "#    with open('./quchong_after_guiyi_v1.0/' + file_name, 'r') as file, open('./quchong_after_guiyi_v1.0_self_align1/' + file_name, 'a') as fl:\n",
    "        e1_set = set()\n",
    "        e2_set = set()\n",
    "        del_data = 0\n",
    "        del_data_list = []\n",
    "        file.seek(0,0)\n",
    "        for line in file:\n",
    "            line_dict = json.loads(line.strip())\n",
    "            e1 = line_dict[\"e1\"].lower()\n",
    "            e2 = line_dict[\"e2\"].lower()\n",
    "            e1_set.add(e1)\n",
    "            e2_set.add(e2)\n",
    "        \n",
    "        file.seek(0,0)\n",
    "        for line in file:\n",
    "            line_dict = json.loads(line.strip())\n",
    "            e1 = line_dict[\"e1\"].lower()\n",
    "            e2 = line_dict[\"e2\"].lower()\n",
    "            if (e1 in e2_set) or (e2 in e1_set):\n",
    "                del_data += 1\n",
    "#                del_data_list.append(e1 + \"##\" + e2)\n",
    "#                print(e1 + \"##\" + e2)\n",
    "                continue\n",
    "            else:\n",
    "#                print(line_dict)\n",
    "                fl.write(json.dumps(line_dict) + '\\n')\n",
    "        print(str(del_data))\n"
   ]
  },
  {
   "cell_type": "code",
   "execution_count": 16,
   "metadata": {},
   "outputs": [
    {
     "data": {
      "text/plain": [
       "'gene_disease_cause.dict'"
      ]
     },
     "execution_count": 16,
     "metadata": {},
     "output_type": "execute_result"
    }
   ],
   "source": [
    "file_name"
   ]
  },
  {
   "cell_type": "code",
   "execution_count": 23,
   "metadata": {},
   "outputs": [
    {
     "name": "stdout",
     "output_type": "stream",
     "text": [
      "y\n"
     ]
    }
   ],
   "source": [
    "a = \"gene_disease\"\n",
    "b = \"gene_disease_cause.dict\"\n",
    "if a in b:\n",
    "    print(\"y\")\n",
    "else:\n",
    "    print(\"n\")"
   ]
  },
  {
   "cell_type": "code",
   "execution_count": null,
   "metadata": {},
   "outputs": [],
   "source": []
  }
 ],
 "metadata": {
  "kernelspec": {
   "display_name": "Python 3",
   "language": "python",
   "name": "python3"
  },
  "language_info": {
   "codemirror_mode": {
    "name": "ipython",
    "version": 3
   },
   "file_extension": ".py",
   "mimetype": "text/x-python",
   "name": "python",
   "nbconvert_exporter": "python",
   "pygments_lexer": "ipython3",
   "version": "3.7.3"
  }
 },
 "nbformat": 4,
 "nbformat_minor": 2
}
