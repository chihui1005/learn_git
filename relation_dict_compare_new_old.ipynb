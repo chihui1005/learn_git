{
 "cells": [
  {
   "cell_type": "code",
   "execution_count": 23,
   "metadata": {},
   "outputs": [
    {
     "name": "stdout",
     "output_type": "stream",
     "text": [
      "2307912\n",
      "5912\n",
      "2218284\n",
      "2958\n",
      "2954\n",
      "2144690\n"
     ]
    }
   ],
   "source": [
    "#  统计旧版本中存在的实体，在新版本中不存在的数量，去重后 5912个，其中有 2958个是黑名单中的词，这些在黑名单中的词在旧版本中的词频加起来有 2144690。\n",
    "import csv,os,logging\n",
    "import sys\n",
    "import json\n",
    "import _pickle as pickle\n",
    "\n",
    "black_list = []\n",
    "with open('./black_dict_v2.0.txt','r') as file:\n",
    "    for line in file:\n",
    "        black_list.append(line.strip())\n",
    "\n",
    "csv.field_size_limit(sys.maxsize)\n",
    "entity_name_new = {}\n",
    "entity_name_old_del = []\n",
    "\n",
    "with open('./relation_all20190308.csv',encoding='utf-8') as csvfile1:\n",
    "    csvfile1.seek(0, 0)\n",
    "    csv_reader1 = csv.reader(csvfile1)\n",
    "    birth_header1 = next(csv_reader1)\n",
    "    for item in csv_reader1:\n",
    "        from_name = item[0]\n",
    "        to_name = item[1]\n",
    "        entity_name_new[from_name] = 1\n",
    "        entity_name_new[to_name] = 1\n",
    "#       break\n",
    "#    print(len(entity_name_new))\n",
    "\n",
    "del_relation_count = 0    \n",
    "with open('./relation_all20190118.csv',encoding='utf-8') as csvfile2:\n",
    "    csvfile2.seek(0, 0)\n",
    "    csv_reader2 = csv.reader(csvfile2)\n",
    "    birth_header2 = next(csv_reader2)\n",
    "    for item in csv_reader2:\n",
    "        flag1 = 0\n",
    "        flag2 = 0\n",
    "\n",
    "        from_name = item[0]\n",
    "        if from_name not in entity_name_new:\n",
    "            entity_name_old_del.append(from_name)\n",
    "            flag1 = 1\n",
    "        to_name = item[1]\n",
    "        if to_name not in entity_name_new:\n",
    "            entity_name_old_del.append(to_name)\n",
    "            flag2 = 1\n",
    "        if (flag1 == 1) or (flag2 == 1):\n",
    "            del_relation_count += 1\n",
    "            \n",
    "    print(len(entity_name_old_del))\n",
    "    del_name = set(entity_name_old_del)\n",
    "    print(len(del_name))\n",
    "    print(del_relation_count)\n",
    "    \n",
    "name_in_black_list = []\n",
    "name_in_black = 0\n",
    "name_not_in_black = 0\n",
    "for name in del_name:\n",
    "    if name in black_list:\n",
    "        name_in_black += 1\n",
    "        name_in_black_list.append(name)\n",
    "    else:\n",
    "        name_not_in_black += 1\n",
    "print(name_in_black)\n",
    "print(name_not_in_black)\n",
    "\n",
    "\n",
    "blackname_count = 0\n",
    "\n",
    "with open('./relation_all20190118.csv',encoding='utf-8') as csvfile2:\n",
    "    csvfile2.seek(0, 0)\n",
    "    csv_reader2 = csv.reader(csvfile2)\n",
    "    birth_header2 = next(csv_reader2)\n",
    "    for item in csv_reader2:\n",
    "        from_name = item[0]\n",
    "        if from_name in set(name_in_black_list):\n",
    "            blackname_count += 1\n",
    "        to_name = item[1]\n",
    "        if to_name in set(name_in_black_list):\n",
    "            blackname_count += 1\n",
    "    print(blackname_count)\n"
   ]
  },
  {
   "cell_type": "code",
   "execution_count": 1,
   "metadata": {},
   "outputs": [
    {
     "name": "stdout",
     "output_type": "stream",
     "text": [
      "40\n"
     ]
    }
   ],
   "source": [
    "#  画出置信度的分布图\n",
    "import csv,os,logging\n",
    "import sys\n",
    "import json\n",
    "import numpy as np\n",
    "import matplotlib.pyplot as plt\n",
    "\n",
    "csv.field_size_limit(sys.maxsize)\n",
    "\n",
    "confidence_count = 0\n",
    "confidence_list = []\n",
    "with open('./relation_all20190308.csv',encoding='utf-8') as csvfile:\n",
    "    csvfile.seek(0, 0)\n",
    "    csv_reader = csv.reader(csvfile)\n",
    "    birth_header = next(csv_reader)\n",
    "        \n",
    "    for item in csv_reader:\n",
    "        confi = item[2]\n",
    "        if confi == \"confidence\":\n",
    "            confidence_count += 1\n",
    "            continue\n",
    "        else:\n",
    "        #print(confidence)\n",
    "            confidence_list.append(float(confi))\n",
    "    print(confidence_count)     \n",
    "#    data_list = np.array(confidence_list)\n",
    "#    print (data_list)\n",
    "    \n",
    "    count_0_1 = 0\n",
    "    count_1_2 = 0\n",
    "    count_2_3 = 0\n",
    "    count_3_4 = 0\n",
    "    count_4_5 = 0\n",
    "    count_5_6 = 0\n",
    "    count_6_7 = 0\n",
    "    count_7_8 = 0\n",
    "    count_8_9 = 0\n",
    "    count_9_10 = 0\n",
    "    data = confidence_list\n",
    "    '''\n",
    "    for data in confidence_list:\n",
    "        if data > 0 and data <= 0.1:\n",
    "            count_0_1 += 1\n",
    "        elif data > 0.1 and data <= 0.2:\n",
    "            count_1_2 += 1\n",
    "        elif data > 0.2 and data <= 0.3:\n",
    "            count_2_3 += 1\n",
    "        elif data > 0.3 and data <= 0.4:\n",
    "            count_3_4 += 1\n",
    "        elif data > 0.4 and data <= 0.5:\n",
    "            count_4_5 += 1\n",
    "        elif data > 0.5 and data <= 0.6:\n",
    "            count_5_6 += 1\n",
    "        elif data > 0.6 and data <= 0.7:\n",
    "            count_6_7 += 1\n",
    "        elif data > 0.7 and data <= 0.8:\n",
    "            count_7_8 += 1\n",
    "        elif data > 0.8 and data <= 0.9:\n",
    "            count_8_9 += 1\n",
    "        elif data >0.9 and data <= 1:\n",
    "            count_9_10 += 1\n",
    "    print(str(count_0_1) + '\\n' + str(count_1_2) + '\\n' + str(count_2_3) + '\\n' + str(count_3_4) + '\\n' + \\\n",
    "          str(count_4_5) + '\\n' + str(count_5_6) + '\\n' + str(count_6_7) + '\\n' + str(count_7_8) + '\\n' + \\\n",
    "          str(count_8_9) + '\\n' + str(count_9_10))\n",
    "    '''\n",
    "    #plt.hist(data, bins=10, alpha=0.5, histtype='stepfilled', color='steelblue',edgecolor='none', label='freqence')"
   ]
  },
  {
   "cell_type": "code",
   "execution_count": 14,
   "metadata": {},
   "outputs": [
    {
     "name": "stdout",
     "output_type": "stream",
     "text": [
      "['2.34', '1.23', '3.46', '4.57', '5.68', '6.79']\n"
     ]
    }
   ],
   "source": [
    "#  测试 decimal函数\n",
    "from decimal import Decimal\n",
    "\n",
    "list_1 = []\n",
    "list_ = [\"2.345\",\"1.234\",\"3.456\",\"4.567\",\"5.678\",\"6.789\"]\n",
    "for finger in list_:\n",
    "    new_finger = Decimal(finger).quantize(Decimal('0.00'))\n",
    "#    print(new_finger)\n",
    "#    break\n",
    "    list_1.append(str(new_finger))\n",
    "print(list_1)"
   ]
  },
  {
   "cell_type": "code",
   "execution_count": 8,
   "metadata": {},
   "outputs": [
    {
     "ename": "KeyError",
     "evalue": "'mesdc1'",
     "output_type": "error",
     "traceback": [
      "\u001b[0;31m---------------------------------------------------------------------------\u001b[0m",
      "\u001b[0;31mKeyError\u001b[0m                                  Traceback (most recent call last)",
      "\u001b[0;32m<ipython-input-8-ce9b04507b5d>\u001b[0m in \u001b[0;36m<module>\u001b[0;34m\u001b[0m\n\u001b[1;32m     11\u001b[0m \u001b[0;31m#        exist_entity_dict += 1\u001b[0m\u001b[0;34m\u001b[0m\u001b[0;34m\u001b[0m\u001b[0;34m\u001b[0m\u001b[0m\n\u001b[1;32m     12\u001b[0m \u001b[0;31m#print(exist_entity_dict)\u001b[0m\u001b[0;34m\u001b[0m\u001b[0;34m\u001b[0m\u001b[0;34m\u001b[0m\u001b[0m\n\u001b[0;32m---> 13\u001b[0;31m \u001b[0mprint\u001b[0m\u001b[0;34m(\u001b[0m\u001b[0mmed_synonyms_name_dict\u001b[0m\u001b[0;34m[\u001b[0m\u001b[0;34m\"mesdc1\"\u001b[0m\u001b[0;34m]\u001b[0m\u001b[0;34m)\u001b[0m\u001b[0;34m\u001b[0m\u001b[0;34m\u001b[0m\u001b[0m\n\u001b[0m",
      "\u001b[0;31mKeyError\u001b[0m: 'mesdc1'"
     ]
    }
   ],
   "source": [
    "#  旧版本中被删掉的 5912个词，有 2921个是在实体字典中的。\n",
    "import json\n",
    "import _pickle as pickle\n",
    "\n",
    "with open('./medical_entity_dict_v4.1.pkl','rb') as file:\n",
    "    med_synonyms_name_dict, med_name_cate_dict = pickle.loads(file.read())\n",
    "#exist_entity_dict = 0\n",
    "\n",
    "#for name in del_name:\n",
    "#    if name in med_synonyms_name_dict:\n",
    "#        exist_entity_dict += 1\n",
    "#print(exist_entity_dict)\n",
    "print(med_synonyms_name_dict[\"mesdc1\"])"
   ]
  },
  {
   "cell_type": "code",
   "execution_count": 5,
   "metadata": {},
   "outputs": [
    {
     "name": "stdout",
     "output_type": "stream",
     "text": [
      "Index(['from_name', 'to_name', 'confidence', 'pubmed_id_list'], dtype='object')\n"
     ]
    }
   ],
   "source": [
    "import pandas as pd\n",
    "import matplotlib.pyplot as plt\n",
    "#df = pd.read_csv('./relation_all20190308.csv')\n",
    "print(df.columns)\n",
    "\n",
    "new_df =  df[df[\"confidence\"] != \"confidence\"]"
   ]
  },
  {
   "cell_type": "code",
   "execution_count": 8,
   "metadata": {},
   "outputs": [],
   "source": [
    "set1 = set([type(v) for v in new_df[\"confidence\"]])"
   ]
  },
  {
   "cell_type": "code",
   "execution_count": 6,
   "metadata": {},
   "outputs": [
    {
     "ename": "AttributeError",
     "evalue": "'NoneType' object has no attribute 'update'",
     "output_type": "error",
     "traceback": [
      "\u001b[0;31m---------------------------------------------------------------------------\u001b[0m",
      "\u001b[0;31mAttributeError\u001b[0m                            Traceback (most recent call last)",
      "\u001b[0;32m<ipython-input-6-431dd81046cb>\u001b[0m in \u001b[0;36m<module>\u001b[0;34m\u001b[0m\n\u001b[0;32m----> 1\u001b[0;31m \u001b[0mplt\u001b[0m\u001b[0;34m.\u001b[0m\u001b[0mhist\u001b[0m\u001b[0;34m(\u001b[0m\u001b[0mnew_df\u001b[0m\u001b[0;34m[\u001b[0m\u001b[0;34m\"confidence\"\u001b[0m\u001b[0;34m]\u001b[0m\u001b[0;34m,\u001b[0m \u001b[0mbins\u001b[0m\u001b[0;34m=\u001b[0m\u001b[0;36m100\u001b[0m\u001b[0;34m)\u001b[0m\u001b[0;34m\u001b[0m\u001b[0;34m\u001b[0m\u001b[0m\n\u001b[0m",
      "\u001b[0;32m/mnt/chihui/anaconda3/lib/python3.7/site-packages/matplotlib/pyplot.py\u001b[0m in \u001b[0;36mhist\u001b[0;34m(x, bins, range, density, weights, cumulative, bottom, histtype, align, orientation, rwidth, log, color, label, stacked, normed, data, **kwargs)\u001b[0m\n\u001b[1;32m   2659\u001b[0m         \u001b[0malign\u001b[0m\u001b[0;34m=\u001b[0m\u001b[0malign\u001b[0m\u001b[0;34m,\u001b[0m \u001b[0morientation\u001b[0m\u001b[0;34m=\u001b[0m\u001b[0morientation\u001b[0m\u001b[0;34m,\u001b[0m \u001b[0mrwidth\u001b[0m\u001b[0;34m=\u001b[0m\u001b[0mrwidth\u001b[0m\u001b[0;34m,\u001b[0m \u001b[0mlog\u001b[0m\u001b[0;34m=\u001b[0m\u001b[0mlog\u001b[0m\u001b[0;34m,\u001b[0m\u001b[0;34m\u001b[0m\u001b[0;34m\u001b[0m\u001b[0m\n\u001b[1;32m   2660\u001b[0m         \u001b[0mcolor\u001b[0m\u001b[0;34m=\u001b[0m\u001b[0mcolor\u001b[0m\u001b[0;34m,\u001b[0m \u001b[0mlabel\u001b[0m\u001b[0;34m=\u001b[0m\u001b[0mlabel\u001b[0m\u001b[0;34m,\u001b[0m \u001b[0mstacked\u001b[0m\u001b[0;34m=\u001b[0m\u001b[0mstacked\u001b[0m\u001b[0;34m,\u001b[0m \u001b[0mnormed\u001b[0m\u001b[0;34m=\u001b[0m\u001b[0mnormed\u001b[0m\u001b[0;34m,\u001b[0m\u001b[0;34m\u001b[0m\u001b[0;34m\u001b[0m\u001b[0m\n\u001b[0;32m-> 2661\u001b[0;31m         **({\"data\": data} if data is not None else {}), **kwargs)\n\u001b[0m\u001b[1;32m   2662\u001b[0m \u001b[0;34m\u001b[0m\u001b[0m\n\u001b[1;32m   2663\u001b[0m \u001b[0;34m\u001b[0m\u001b[0m\n",
      "\u001b[0;32m/mnt/chihui/anaconda3/lib/python3.7/site-packages/matplotlib/__init__.py\u001b[0m in \u001b[0;36minner\u001b[0;34m(ax, data, *args, **kwargs)\u001b[0m\n\u001b[1;32m   1808\u001b[0m                         \u001b[0;34m\"the Matplotlib list!)\"\u001b[0m \u001b[0;34m%\u001b[0m \u001b[0;34m(\u001b[0m\u001b[0mlabel_namer\u001b[0m\u001b[0;34m,\u001b[0m \u001b[0mfunc\u001b[0m\u001b[0;34m.\u001b[0m\u001b[0m__name__\u001b[0m\u001b[0;34m)\u001b[0m\u001b[0;34m,\u001b[0m\u001b[0;34m\u001b[0m\u001b[0;34m\u001b[0m\u001b[0m\n\u001b[1;32m   1809\u001b[0m                         RuntimeWarning, stacklevel=2)\n\u001b[0;32m-> 1810\u001b[0;31m             \u001b[0;32mreturn\u001b[0m \u001b[0mfunc\u001b[0m\u001b[0;34m(\u001b[0m\u001b[0max\u001b[0m\u001b[0;34m,\u001b[0m \u001b[0;34m*\u001b[0m\u001b[0margs\u001b[0m\u001b[0;34m,\u001b[0m \u001b[0;34m**\u001b[0m\u001b[0mkwargs\u001b[0m\u001b[0;34m)\u001b[0m\u001b[0;34m\u001b[0m\u001b[0;34m\u001b[0m\u001b[0m\n\u001b[0m\u001b[1;32m   1811\u001b[0m \u001b[0;34m\u001b[0m\u001b[0m\n\u001b[1;32m   1812\u001b[0m         inner.__doc__ = _add_data_doc(inner.__doc__,\n",
      "\u001b[0;32m/mnt/chihui/anaconda3/lib/python3.7/site-packages/matplotlib/axes/_axes.py\u001b[0m in \u001b[0;36mhist\u001b[0;34m(self, x, bins, range, density, weights, cumulative, bottom, histtype, align, orientation, rwidth, log, color, label, stacked, normed, **kwargs)\u001b[0m\n\u001b[1;32m   6533\u001b[0m         \u001b[0;31m# Unit conversion is done individually on each dataset\u001b[0m\u001b[0;34m\u001b[0m\u001b[0;34m\u001b[0m\u001b[0;34m\u001b[0m\u001b[0m\n\u001b[1;32m   6534\u001b[0m         \u001b[0mself\u001b[0m\u001b[0;34m.\u001b[0m\u001b[0m_process_unit_info\u001b[0m\u001b[0;34m(\u001b[0m\u001b[0mxdata\u001b[0m\u001b[0;34m=\u001b[0m\u001b[0mx\u001b[0m\u001b[0;34m[\u001b[0m\u001b[0;36m0\u001b[0m\u001b[0;34m]\u001b[0m\u001b[0;34m,\u001b[0m \u001b[0mkwargs\u001b[0m\u001b[0;34m=\u001b[0m\u001b[0mkwargs\u001b[0m\u001b[0;34m)\u001b[0m\u001b[0;34m\u001b[0m\u001b[0;34m\u001b[0m\u001b[0m\n\u001b[0;32m-> 6535\u001b[0;31m         \u001b[0mx\u001b[0m \u001b[0;34m=\u001b[0m \u001b[0;34m[\u001b[0m\u001b[0mself\u001b[0m\u001b[0;34m.\u001b[0m\u001b[0mconvert_xunits\u001b[0m\u001b[0;34m(\u001b[0m\u001b[0mxi\u001b[0m\u001b[0;34m)\u001b[0m \u001b[0;32mfor\u001b[0m \u001b[0mxi\u001b[0m \u001b[0;32min\u001b[0m \u001b[0mx\u001b[0m\u001b[0;34m]\u001b[0m\u001b[0;34m\u001b[0m\u001b[0;34m\u001b[0m\u001b[0m\n\u001b[0m\u001b[1;32m   6536\u001b[0m \u001b[0;34m\u001b[0m\u001b[0m\n\u001b[1;32m   6537\u001b[0m         \u001b[0;32mif\u001b[0m \u001b[0mbin_range\u001b[0m \u001b[0;32mis\u001b[0m \u001b[0;32mnot\u001b[0m \u001b[0;32mNone\u001b[0m\u001b[0;34m:\u001b[0m\u001b[0;34m\u001b[0m\u001b[0;34m\u001b[0m\u001b[0m\n",
      "\u001b[0;32m/mnt/chihui/anaconda3/lib/python3.7/site-packages/matplotlib/axes/_axes.py\u001b[0m in \u001b[0;36m<listcomp>\u001b[0;34m(.0)\u001b[0m\n\u001b[1;32m   6533\u001b[0m         \u001b[0;31m# Unit conversion is done individually on each dataset\u001b[0m\u001b[0;34m\u001b[0m\u001b[0;34m\u001b[0m\u001b[0;34m\u001b[0m\u001b[0m\n\u001b[1;32m   6534\u001b[0m         \u001b[0mself\u001b[0m\u001b[0;34m.\u001b[0m\u001b[0m_process_unit_info\u001b[0m\u001b[0;34m(\u001b[0m\u001b[0mxdata\u001b[0m\u001b[0;34m=\u001b[0m\u001b[0mx\u001b[0m\u001b[0;34m[\u001b[0m\u001b[0;36m0\u001b[0m\u001b[0;34m]\u001b[0m\u001b[0;34m,\u001b[0m \u001b[0mkwargs\u001b[0m\u001b[0;34m=\u001b[0m\u001b[0mkwargs\u001b[0m\u001b[0;34m)\u001b[0m\u001b[0;34m\u001b[0m\u001b[0;34m\u001b[0m\u001b[0m\n\u001b[0;32m-> 6535\u001b[0;31m         \u001b[0mx\u001b[0m \u001b[0;34m=\u001b[0m \u001b[0;34m[\u001b[0m\u001b[0mself\u001b[0m\u001b[0;34m.\u001b[0m\u001b[0mconvert_xunits\u001b[0m\u001b[0;34m(\u001b[0m\u001b[0mxi\u001b[0m\u001b[0;34m)\u001b[0m \u001b[0;32mfor\u001b[0m \u001b[0mxi\u001b[0m \u001b[0;32min\u001b[0m \u001b[0mx\u001b[0m\u001b[0;34m]\u001b[0m\u001b[0;34m\u001b[0m\u001b[0;34m\u001b[0m\u001b[0m\n\u001b[0m\u001b[1;32m   6536\u001b[0m \u001b[0;34m\u001b[0m\u001b[0m\n\u001b[1;32m   6537\u001b[0m         \u001b[0;32mif\u001b[0m \u001b[0mbin_range\u001b[0m \u001b[0;32mis\u001b[0m \u001b[0;32mnot\u001b[0m \u001b[0;32mNone\u001b[0m\u001b[0;34m:\u001b[0m\u001b[0;34m\u001b[0m\u001b[0;34m\u001b[0m\u001b[0m\n",
      "\u001b[0;32m/mnt/chihui/anaconda3/lib/python3.7/site-packages/matplotlib/artist.py\u001b[0m in \u001b[0;36mconvert_xunits\u001b[0;34m(self, x)\u001b[0m\n\u001b[1;32m    184\u001b[0m         \u001b[0;32mif\u001b[0m \u001b[0max\u001b[0m \u001b[0;32mis\u001b[0m \u001b[0;32mNone\u001b[0m \u001b[0;32mor\u001b[0m \u001b[0max\u001b[0m\u001b[0;34m.\u001b[0m\u001b[0mxaxis\u001b[0m \u001b[0;32mis\u001b[0m \u001b[0;32mNone\u001b[0m\u001b[0;34m:\u001b[0m\u001b[0;34m\u001b[0m\u001b[0;34m\u001b[0m\u001b[0m\n\u001b[1;32m    185\u001b[0m             \u001b[0;32mreturn\u001b[0m \u001b[0mx\u001b[0m\u001b[0;34m\u001b[0m\u001b[0;34m\u001b[0m\u001b[0m\n\u001b[0;32m--> 186\u001b[0;31m         \u001b[0;32mreturn\u001b[0m \u001b[0max\u001b[0m\u001b[0;34m.\u001b[0m\u001b[0mxaxis\u001b[0m\u001b[0;34m.\u001b[0m\u001b[0mconvert_units\u001b[0m\u001b[0;34m(\u001b[0m\u001b[0mx\u001b[0m\u001b[0;34m)\u001b[0m\u001b[0;34m\u001b[0m\u001b[0;34m\u001b[0m\u001b[0m\n\u001b[0m\u001b[1;32m    187\u001b[0m \u001b[0;34m\u001b[0m\u001b[0m\n\u001b[1;32m    188\u001b[0m     \u001b[0;32mdef\u001b[0m \u001b[0mconvert_yunits\u001b[0m\u001b[0;34m(\u001b[0m\u001b[0mself\u001b[0m\u001b[0;34m,\u001b[0m \u001b[0my\u001b[0m\u001b[0;34m)\u001b[0m\u001b[0;34m:\u001b[0m\u001b[0;34m\u001b[0m\u001b[0;34m\u001b[0m\u001b[0m\n",
      "\u001b[0;32m/mnt/chihui/anaconda3/lib/python3.7/site-packages/matplotlib/axis.py\u001b[0m in \u001b[0;36mconvert_units\u001b[0;34m(self, x)\u001b[0m\n\u001b[1;32m   1528\u001b[0m             \u001b[0;32mreturn\u001b[0m \u001b[0mx\u001b[0m\u001b[0;34m\u001b[0m\u001b[0;34m\u001b[0m\u001b[0m\n\u001b[1;32m   1529\u001b[0m \u001b[0;34m\u001b[0m\u001b[0m\n\u001b[0;32m-> 1530\u001b[0;31m         \u001b[0mret\u001b[0m \u001b[0;34m=\u001b[0m \u001b[0mself\u001b[0m\u001b[0;34m.\u001b[0m\u001b[0mconverter\u001b[0m\u001b[0;34m.\u001b[0m\u001b[0mconvert\u001b[0m\u001b[0;34m(\u001b[0m\u001b[0mx\u001b[0m\u001b[0;34m,\u001b[0m \u001b[0mself\u001b[0m\u001b[0;34m.\u001b[0m\u001b[0munits\u001b[0m\u001b[0;34m,\u001b[0m \u001b[0mself\u001b[0m\u001b[0;34m)\u001b[0m\u001b[0;34m\u001b[0m\u001b[0;34m\u001b[0m\u001b[0m\n\u001b[0m\u001b[1;32m   1531\u001b[0m         \u001b[0;32mreturn\u001b[0m \u001b[0mret\u001b[0m\u001b[0;34m\u001b[0m\u001b[0;34m\u001b[0m\u001b[0m\n\u001b[1;32m   1532\u001b[0m \u001b[0;34m\u001b[0m\u001b[0m\n",
      "\u001b[0;32m/mnt/chihui/anaconda3/lib/python3.7/site-packages/matplotlib/category.py\u001b[0m in \u001b[0;36mconvert\u001b[0;34m(value, unit, axis)\u001b[0m\n\u001b[1;32m     51\u001b[0m \u001b[0;34m\u001b[0m\u001b[0m\n\u001b[1;32m     52\u001b[0m         \u001b[0;31m# force an update so it also does type checking\u001b[0m\u001b[0;34m\u001b[0m\u001b[0;34m\u001b[0m\u001b[0;34m\u001b[0m\u001b[0m\n\u001b[0;32m---> 53\u001b[0;31m         \u001b[0munit\u001b[0m\u001b[0;34m.\u001b[0m\u001b[0mupdate\u001b[0m\u001b[0;34m(\u001b[0m\u001b[0mvalues\u001b[0m\u001b[0;34m)\u001b[0m\u001b[0;34m\u001b[0m\u001b[0;34m\u001b[0m\u001b[0m\n\u001b[0m\u001b[1;32m     54\u001b[0m \u001b[0;34m\u001b[0m\u001b[0m\n\u001b[1;32m     55\u001b[0m         str2idx = np.vectorize(unit._mapping.__getitem__,\n",
      "\u001b[0;31mAttributeError\u001b[0m: 'NoneType' object has no attribute 'update'"
     ]
    },
    {
     "data": {
      "image/png": "[encoded data removed]",
      "text/plain": [
       "<Figure size 432x288 with 1 Axes>"
      ]
     },
     "metadata": {
      "needs_background": "light"
     },
     "output_type": "display_data"
    }
   ],
   "source": [
    "plt.hist(new_df[\"confidence\"], bins=100)"
   ]
  },
  {
   "cell_type": "code",
   "execution_count": 15,
   "metadata": {},
   "outputs": [],
   "source": [
    "list1 = []\n",
    "for v in new_df[\"confidence\"]:\n",
    "    if isinstance(v,str):\n",
    "        list1.append(True)\n",
    "    else:\n",
    "        list1.append(False)\n",
    "#new_df2 = df[]"
   ]
  },
  {
   "cell_type": "code",
   "execution_count": 16,
   "metadata": {},
   "outputs": [
    {
     "ename": "ValueError",
     "evalue": "Item wrong length 14470801 instead of 14470841.",
     "output_type": "error",
     "traceback": [
      "\u001b[0;31m---------------------------------------------------------------------------\u001b[0m",
      "\u001b[0;31mValueError\u001b[0m                                Traceback (most recent call last)",
      "\u001b[0;32m<ipython-input-16-4f4e1408009f>\u001b[0m in \u001b[0;36m<module>\u001b[0;34m\u001b[0m\n\u001b[1;32m      1\u001b[0m \u001b[0;32mimport\u001b[0m \u001b[0mnumpy\u001b[0m \u001b[0;32mas\u001b[0m \u001b[0mnp\u001b[0m\u001b[0;34m\u001b[0m\u001b[0;34m\u001b[0m\u001b[0m\n\u001b[0;32m----> 2\u001b[0;31m \u001b[0mnew_df2\u001b[0m \u001b[0;34m=\u001b[0m \u001b[0mdf\u001b[0m\u001b[0;34m[\u001b[0m\u001b[0mnp\u001b[0m\u001b[0;34m.\u001b[0m\u001b[0marray\u001b[0m\u001b[0;34m(\u001b[0m\u001b[0mlist1\u001b[0m\u001b[0;34m)\u001b[0m\u001b[0;34m]\u001b[0m\u001b[0;34m\u001b[0m\u001b[0;34m\u001b[0m\u001b[0m\n\u001b[0m",
      "\u001b[0;32m/mnt/chihui/anaconda3/lib/python3.7/site-packages/pandas/core/frame.py\u001b[0m in \u001b[0;36m__getitem__\u001b[0;34m(self, key)\u001b[0m\n\u001b[1;32m   2680\u001b[0m         \u001b[0;32mif\u001b[0m \u001b[0misinstance\u001b[0m\u001b[0;34m(\u001b[0m\u001b[0mkey\u001b[0m\u001b[0;34m,\u001b[0m \u001b[0;34m(\u001b[0m\u001b[0mSeries\u001b[0m\u001b[0;34m,\u001b[0m \u001b[0mnp\u001b[0m\u001b[0;34m.\u001b[0m\u001b[0mndarray\u001b[0m\u001b[0;34m,\u001b[0m \u001b[0mIndex\u001b[0m\u001b[0;34m,\u001b[0m \u001b[0mlist\u001b[0m\u001b[0;34m)\u001b[0m\u001b[0;34m)\u001b[0m\u001b[0;34m:\u001b[0m\u001b[0;34m\u001b[0m\u001b[0;34m\u001b[0m\u001b[0m\n\u001b[1;32m   2681\u001b[0m             \u001b[0;31m# either boolean or fancy integer index\u001b[0m\u001b[0;34m\u001b[0m\u001b[0;34m\u001b[0m\u001b[0;34m\u001b[0m\u001b[0m\n\u001b[0;32m-> 2682\u001b[0;31m             \u001b[0;32mreturn\u001b[0m \u001b[0mself\u001b[0m\u001b[0;34m.\u001b[0m\u001b[0m_getitem_array\u001b[0m\u001b[0;34m(\u001b[0m\u001b[0mkey\u001b[0m\u001b[0;34m)\u001b[0m\u001b[0;34m\u001b[0m\u001b[0;34m\u001b[0m\u001b[0m\n\u001b[0m\u001b[1;32m   2683\u001b[0m         \u001b[0;32melif\u001b[0m \u001b[0misinstance\u001b[0m\u001b[0;34m(\u001b[0m\u001b[0mkey\u001b[0m\u001b[0;34m,\u001b[0m \u001b[0mDataFrame\u001b[0m\u001b[0;34m)\u001b[0m\u001b[0;34m:\u001b[0m\u001b[0;34m\u001b[0m\u001b[0;34m\u001b[0m\u001b[0m\n\u001b[1;32m   2684\u001b[0m             \u001b[0;32mreturn\u001b[0m \u001b[0mself\u001b[0m\u001b[0;34m.\u001b[0m\u001b[0m_getitem_frame\u001b[0m\u001b[0;34m(\u001b[0m\u001b[0mkey\u001b[0m\u001b[0;34m)\u001b[0m\u001b[0;34m\u001b[0m\u001b[0;34m\u001b[0m\u001b[0m\n",
      "\u001b[0;32m/mnt/chihui/anaconda3/lib/python3.7/site-packages/pandas/core/frame.py\u001b[0m in \u001b[0;36m_getitem_array\u001b[0;34m(self, key)\u001b[0m\n\u001b[1;32m   2717\u001b[0m             \u001b[0;32melif\u001b[0m \u001b[0mlen\u001b[0m\u001b[0;34m(\u001b[0m\u001b[0mkey\u001b[0m\u001b[0;34m)\u001b[0m \u001b[0;34m!=\u001b[0m \u001b[0mlen\u001b[0m\u001b[0;34m(\u001b[0m\u001b[0mself\u001b[0m\u001b[0;34m.\u001b[0m\u001b[0mindex\u001b[0m\u001b[0;34m)\u001b[0m\u001b[0;34m:\u001b[0m\u001b[0;34m\u001b[0m\u001b[0;34m\u001b[0m\u001b[0m\n\u001b[1;32m   2718\u001b[0m                 raise ValueError('Item wrong length %d instead of %d.' %\n\u001b[0;32m-> 2719\u001b[0;31m                                  (len(key), len(self.index)))\n\u001b[0m\u001b[1;32m   2720\u001b[0m             \u001b[0;31m# check_bool_indexer will throw exception if Series key cannot\u001b[0m\u001b[0;34m\u001b[0m\u001b[0;34m\u001b[0m\u001b[0;34m\u001b[0m\u001b[0m\n\u001b[1;32m   2721\u001b[0m             \u001b[0;31m# be reindexed to match DataFrame rows\u001b[0m\u001b[0;34m\u001b[0m\u001b[0;34m\u001b[0m\u001b[0;34m\u001b[0m\u001b[0m\n",
      "\u001b[0;31mValueError\u001b[0m: Item wrong length 14470801 instead of 14470841."
     ]
    }
   ],
   "source": [
    "import numpy as np\n",
    "new_df2 = df[np.array(list1)]"
   ]
  },
  {
   "cell_type": "code",
   "execution_count": 1,
   "metadata": {},
   "outputs": [
    {
     "name": "stdout",
     "output_type": "stream",
     "text": [
      "1:./relation_dict_in_entity_dict_after_correct/compound_protein_treat.dict\n",
      "2:./relation_dict_in_entity_dict_after_correct/equipment_disease_diagnose|treat.dict\n",
      "3:./relation_dict_in_entity_dict_after_correct/compound_disease_cause.dict\n",
      "4:./relation_dict_in_entity_dict_after_correct/gene_disease_cause.dict\n",
      "5:./relation_dict_in_entity_dict_after_correct/gene_protein_express.dict\n",
      "6:./relation_dict_in_entity_dict_after_correct/disease_anatomy_occur.dict\n",
      "7:./relation_dict_in_entity_dict_after_correct/symptom_anatomy_occur.dict\n",
      "8:./relation_dict_in_entity_dict_after_correct/protein_anatomy_belong.dict\n",
      "9:./relation_dict_in_entity_dict_after_correct/gene_gene_interact.dict\n",
      "10:./relation_dict_in_entity_dict_after_correct/gene_anatomy_locate.dict\n",
      "11:./relation_dict_in_entity_dict_after_correct/drugs_disease_treat.dict\n",
      "12:./relation_dict_in_entity_dict_after_correct/disease_disease_coexist.dict\n",
      "13:./relation_dict_in_entity_dict_after_correct/drugs_protein_target.dict\n",
      "14:./relation_dict_in_entity_dict_after_correct/protein_protein_interact.dict\n",
      "15:./relation_dict_in_entity_dict_after_correct/protein_disease_cause.dict\n",
      "16:./relation_dict_in_entity_dict_after_correct/drugs_gene_target.dict\n",
      "17:./relation_dict_in_entity_dict_after_correct/compound_gene_treat.dict\n"
     ]
    }
   ],
   "source": [
    "#  统计 新生成的核验过的关系字典中 存在于旧版本中的关系数量\n",
    "import csv,os,logging\n",
    "import sys\n",
    "import json\n",
    "import _pickle as pickle\n",
    "\n",
    "csv.field_size_limit(sys.maxsize)\n",
    "\n",
    "from_to_name_list = set()\n",
    "with open('./relation_all20190308.csv',encoding='utf-8') as csvfile1:  #  问博哥 是否为上一版本关系字典？？？？？？？\n",
    "    csvfile1.seek(0, 0)\n",
    "    csv_reader1 = csv.reader(csvfile1)\n",
    "    birth_header1 = next(csv_reader1)\n",
    "    for item in csv_reader1:\n",
    "        from_name = item[0]\n",
    "        to_name = item[1]\n",
    "        from_to_name = from_name + \"####\" + to_name\n",
    "        from_to_name_list.add(from_to_name)\n",
    "        \n",
    "file_folder_path = r\"./relation_dict_in_entity_dict_after_correct\"\n",
    "file_path_list = []\n",
    "for file_path_root,_,file_name_list in os.walk(file_folder_path):\n",
    "    for file_name in file_name_list:\n",
    "        if \".dict\" in file_name:\n",
    "            file_path_list.append(os.path.join(file_path_root,file_name))\n",
    "#            file_path_list.append(file_name)\n",
    "\n",
    "new_add_relation_count = 0\n",
    "num = 0\n",
    "for file_name in file_path_list:\n",
    "    num = num + 1\n",
    "    print(str(num) + \":\" + file_name)\n",
    "    \n",
    "    with open(file_name,'r') as file:\n",
    "        file.seek(0,0)\n",
    "        for line in file:\n",
    "            line_dict = json.loads(line.strip())\n",
    "            e1 = line_dict[\"e1\"]\n",
    "            e2 = line_dict[\"e2\"]\n",
    "            e1_e2_combine = e1 + \"####\" + e2\n",
    "            \n",
    "            if e1_e2_combine not in from_to_name_list:\n",
    "                new_add_relation_count += 1\n",
    "            \n",
    "            \n",
    "\n"
   ]
  },
  {
   "cell_type": "code",
   "execution_count": 2,
   "metadata": {},
   "outputs": [
    {
     "data": {
      "text/plain": [
       "318288"
      ]
     },
     "execution_count": 2,
     "metadata": {},
     "output_type": "execute_result"
    }
   ],
   "source": [
    "new_add_relation_count"
   ]
  },
  {
   "cell_type": "code",
   "execution_count": null,
   "metadata": {},
   "outputs": [],
   "source": []
  }
 ],
 "metadata": {
  "kernelspec": {
   "display_name": "Python 3",
   "language": "python",
   "name": "python3"
  },
  "language_info": {
   "codemirror_mode": {
    "name": "ipython",
    "version": 3
   },
   "file_extension": ".py",
   "mimetype": "text/x-python",
   "name": "python",
   "nbconvert_exporter": "python",
   "pygments_lexer": "ipython3",
   "version": "3.7.3"
  }
 },
 "nbformat": 4,
 "nbformat_minor": 2
}
