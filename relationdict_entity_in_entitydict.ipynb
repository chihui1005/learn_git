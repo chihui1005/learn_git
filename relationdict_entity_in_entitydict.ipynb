{
 "cells": [
  {
   "cell_type": "code",
   "execution_count": 1,
   "metadata": {},
   "outputs": [
    {
     "name": "stdout",
     "output_type": "stream",
     "text": [
      "1\n"
     ]
    }
   ],
   "source": [
    "import json, os, parser\n",
    "import _pickle as pickle\n",
    "import logging\n",
    "\n",
    "#def log_conf():\n",
    "\n",
    "    # set up logging to file - see previous section for more details\n",
    "#    log_file_path = os.path.join('/Users/ch/Documents/entity_relation_dict/all_modify_info.log')\n",
    "#    logging.basicConfig(level=logging.DEBUG, format='%(asctime)s %(name)-12s %(levelname)-8s %(message)s',\n",
    "#                        datefmt='%m-%d %H:%M', filename=log_file_path, filemode='w')\n",
    "\n",
    "if __name__ == \"__main__\":\n",
    "    with open('./medical_entity_dict_v4.8.pkl','rb') as file_dict:\n",
    "        med_synonyms_name_dict, med_name_cate_dict = pickle.loads(file_dict.read())\n",
    "        \n",
    "#    file_folder_path = r\"./all_relation_dict_file_v2.0/quchong_relation_dict_v2.1\"\n",
    "#    file_folder_path = r\"/mnt/chihui/jupyter/data/relationship_dict_check/relation_dict_in_entity_dict_after_correct\"\n",
    "#    file_path_list = []\n",
    "#    for file_path_root,_,file_name_list in os.walk(file_folder_path):\n",
    "#        for file_name in file_name_list:\n",
    "#            if \".dict\" in file_name:\n",
    "#                file_path_list.append(os.path.join(file_path_root,file_name))\n",
    "\n",
    "    file_path_list = ['/mnt/chihui/jupyter/data/relationship_dict_check/relation_dict_in_entity_dict_after_correct/compound_disease_cause.dict']\n",
    "    num = 0\n",
    "    for file_name in file_path_list:\n",
    "        num = num + 1\n",
    "        print(num)\n",
    "        \n",
    "        with open(file_name,'r') as file, open('/mnt/chihui/jupyter/data/relationship_dict_check/relationdict_entitydict_cate_same/' + os.path.basename(file_name),'a') as fl,\\\n",
    "            open('/mnt/chihui/jupyter/data/relationship_dict_check/relationdict_entitydict_cate_diff/' + os.path.basename(file_name), 'a') as fw:\n",
    "            file.seek(0,0)\n",
    "            for line in file:\n",
    "                flag_e1 = 0\n",
    "                flag_e2 = 0\n",
    "                \n",
    "#                flag_e1_in_dict = 0    #    e1在实体字典中为 1 ，不在实体字典中为 0。\n",
    "#                flag_e1_cate_diff = 0    #    e1在实体字典中，但是关系字典与实体字典的类别一样为 1 ，不一样为 0。\n",
    "                \n",
    "#                flag_e2_in_dict = 0    #    \n",
    "                \n",
    "                line_dict = json.loads(line.strip())\n",
    "                e1 = line_dict[\"e1\"]\n",
    "                e1_cate_relationdict = os.path.basename(file_name).split(\"_\")[0]\n",
    "                e2 = line_dict[\"e2\"]\n",
    "                e2_cate_relationdict = os.path.basename(file_name).split(\"_\")[1]\n",
    "                \n",
    "#                if e1 in med_name_cate_dict:\n",
    "#                    e1_cate_entitydict = med_name_cate_dict[e1]\n",
    "                if e1 in med_synonyms_name_dict:\n",
    "                    e1_name = med_synonyms_name_dict[e1]\n",
    "                    e1_cate_entitydict = med_name_cate_dict[e1_name]\n",
    "                    if e1_cate_entitydict == e1_cate_relationdict:\n",
    "                        flag_e1 = 1\n",
    "#                else:\n",
    "#                    logging.debug(\"e1_not_in_dict:\")\n",
    "#                if e2 in med_name_cate_dict:\n",
    "#                    e2_cate_entitydict = med_name_cate_dict[e2]\n",
    "                if e2 in med_synonyms_name_dict:\n",
    "                    e2_name = med_synonyms_name_dict[e2]\n",
    "                    e2_cate_entitydict = med_name_cate_dict[e2_name]\n",
    "                    if e2_cate_entitydict == e2_cate_relationdict:\n",
    "                        flag_e2 = 1\n",
    "                \n",
    "                if (flag_e1 == 1) and (flag_e2 == 1):\n",
    "                    fl.write(json.dumps(line_dict) + '\\n')\n",
    "                else:\n",
    "                    fw.write(json.dumps(line_dict) + '\\n')\n",
    "                \n",
    "                \n",
    "                "
   ]
  },
  {
   "cell_type": "code",
   "execution_count": null,
   "metadata": {},
   "outputs": [],
   "source": []
  }
 ],
 "metadata": {
  "kernelspec": {
   "display_name": "Python 3",
   "language": "python",
   "name": "python3"
  },
  "language_info": {
   "codemirror_mode": {
    "name": "ipython",
    "version": 3
   },
   "file_extension": ".py",
   "mimetype": "text/x-python",
   "name": "python",
   "nbconvert_exporter": "python",
   "pygments_lexer": "ipython3",
   "version": "3.7.3"
  }
 },
 "nbformat": 4,
 "nbformat_minor": 2
}
