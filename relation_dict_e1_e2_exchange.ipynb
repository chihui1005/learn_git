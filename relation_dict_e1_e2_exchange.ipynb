{
 "cells": [
  {
   "cell_type": "code",
   "execution_count": 6,
   "metadata": {},
   "outputs": [],
   "source": [
    "import json\n",
    "\n",
    "with open('./all_relation_dict_file_v2.0/relation_dict_before_guiyi_v2.0/gene_compound_treat.dict','r') as file, \\\n",
    "        open('./all_relation_dict_file_v2.0/relation_dict_before_guiyi_v2.0/compound_gene_treat.dict','a') as fl:\n",
    "    \n",
    "    file.seek(0,0)\n",
    "    for line in file:\n",
    "        line_dict = json.loads(line.strip())\n",
    "        e1 = line_dict[\"e2\"]\n",
    "        e2 = line_dict[\"e1\"]\n",
    "        \n",
    "        line_dict[\"e1\"] = e1\n",
    "        line_dict[\"e2\"] = e2\n",
    "#        if \"()\" in line_dict[\"e2\"]:\n",
    "#        if (line_dict[\"e2\"] == \"chong-myung-tang\") or (line_dict[\"e2\"] == \"dai-kenchu-to\"):\n",
    "#            continue\n",
    "#        else:\n",
    "        fl.write(json.dumps(line_dict) + \"\\n\")\n",
    "        \n",
    "        "
   ]
  },
  {
   "cell_type": "code",
   "execution_count": null,
   "metadata": {},
   "outputs": [],
   "source": []
  }
 ],
 "metadata": {
  "kernelspec": {
   "display_name": "Python 3",
   "language": "python",
   "name": "python3"
  },
  "language_info": {
   "codemirror_mode": {
    "name": "ipython",
    "version": 3
   },
   "file_extension": ".py",
   "mimetype": "text/x-python",
   "name": "python",
   "nbconvert_exporter": "python",
   "pygments_lexer": "ipython3",
   "version": "3.7.4"
  }
 },
 "nbformat": 4,
 "nbformat_minor": 4
}
