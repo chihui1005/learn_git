{
 "cells": [
  {
   "cell_type": "code",
   "execution_count": 4,
   "metadata": {},
   "outputs": [
    {
     "name": "stdout",
     "output_type": "stream",
     "text": [
      "1\n",
      "compound:10228****protein:2397\n",
      "2\n",
      "disease:7150****compound:15614\n",
      "3\n",
      "disease:15843****disease:15966\n",
      "4\n",
      "drugs:19605****disease:8578\n",
      "5\n",
      "drugs:6479****gene:3153\n",
      "6\n",
      "drugs:9932****protein:5848\n",
      "7\n",
      "gene:7173****anatomy:125\n",
      "8\n",
      "gene:52509****compound:20223\n",
      "9\n",
      "gene:33701****gene:46313\n",
      "10\n",
      "gene:19965****protein:23264\n",
      "11\n",
      "gene:50470****disease:32572\n",
      "12\n",
      "protein:4322****disease:1601\n",
      "13\n",
      "protein:1787****organism:2\n",
      "14\n",
      "protein:4811****protein:7110\n"
     ]
    }
   ],
   "source": [
    "import json\n",
    "\n",
    "rfile_list = ['compound_protein_treat.dict','disease_compound_cause.dict','disease_disease_coexist.dict', \\\n",
    "              'drugs_disease_treat.dict','drugs_gene_target.dict','drugs_protein_target.dict','gene_anatomy_locate.dict', \\\n",
    "              'gene_compound_treat.dict','gene_gene_interact.dict','gene_protein_express.dict','gene_disease_cause.dict', \\\n",
    "              'protein_disease_cause.dict','protein_organism_belong.dict','protein_protein_interact.dict']\n",
    "num = 0\n",
    "for rfile in rfile_list:\n",
    "    num = num + 1\n",
    "    print(num)\n",
    "    with open('./final_quchong/' + rfile,'r') as file:\n",
    "        e1_count = 0\n",
    "        e1_list = set()\n",
    "        e2_count = 0\n",
    "        e2_list = set()\n",
    "        e1_cate = rfile.split(\"_\")[0]\n",
    "        e2_cate = rfile.split(\"_\")[1]\n",
    "        \n",
    "        file.seek(0,0)\n",
    "        for line in file:\n",
    "            line_dict = json.loads(line.strip())\n",
    "            e1 = line_dict[\"e1\"]\n",
    "            e2 = line_dict[\"e2\"]\n",
    "#            if e1 not in e1_list:\n",
    "            e1_list.add(e1)\n",
    "#                e1_count += 1\n",
    "#            if e2 not in e2_list:\n",
    "            e2_list.add(e2)\n",
    "#                e2_count += 1\n",
    "        e1_count = len(e1_list)\n",
    "        e2_count = len(e2_list)\n",
    "        print(e1_cate + \":\" + str(e1_count) + \"****\" + e2_cate + \":\" + str(e2_count))\n",
    "        \n",
    "        "
   ]
  },
  {
   "cell_type": "code",
   "execution_count": 1,
   "metadata": {},
   "outputs": [
    {
     "name": "stdout",
     "output_type": "stream",
     "text": [
      "['1', '2', '3', '4']\n"
     ]
    }
   ],
   "source": [
    "a = [\"2\",\"1\",\"3\",\"4\"]\n",
    "a.sort()\n",
    "print(a) "
   ]
  },
  {
   "cell_type": "code",
   "execution_count": 2,
   "metadata": {},
   "outputs": [
    {
     "name": "stdout",
     "output_type": "stream",
     "text": [
      "1\n",
      "165\n",
      "2\n",
      "93\n",
      "3\n",
      "203982\n",
      "4\n",
      "205429\n",
      "5\n",
      "68717\n",
      "6\n",
      "24\n",
      "7\n",
      "26254\n",
      "8\n",
      "286\n",
      "9\n",
      "3\n"
     ]
    }
   ],
   "source": [
    "import json, os\n",
    "import xlrd\n",
    "import csv\n",
    "import sys\n",
    "\n",
    "csv.field_size_limit(sys.maxsize)\n",
    "with open('./relation_all20190308.csv','r') as csvfile:\n",
    "    entity_combine_list = set()\n",
    "    csvfile.seek(0,0)\n",
    "    csv_reader = csv.reader(csvfile)\n",
    "    birth_header = next(csv_reader)\n",
    "    for row in csv_reader:\n",
    "        from_name = row[0]\n",
    "        to_name = row[1]\n",
    "        entity_combine = from_name + '####' + to_name\n",
    "        entity_combine_list.add(entity_combine)\n",
    "#  统计 e1、e2 均在实体字典中，cate与实体字典一致的数据中，相较上一版新增的关系对。\n",
    "file_folder_path = r\"./relation_dict_in_entity_dict_v2.0\"\n",
    "file_path_list = []\n",
    "for file_path_root,_,file_name_list in os.walk(file_folder_path):\n",
    "    for file_name in file_name_list:\n",
    "        if (\".dict\" in file_name) and (\"gene\" not in file_name):\n",
    "            file_path_list.append(file_name)\n",
    "\n",
    "num = 0\n",
    "for file_name in file_path_list:\n",
    "    num = num + 1\n",
    "    print(num)\n",
    "    new_relation_count = 0\n",
    "    with open('./relation_dict_in_entity_dict_v2.0/' + file_name, 'r') as file, \\\n",
    "        open('./new_add_relation/' + file_name, 'a') as fl:\n",
    "        file.seek(0,0)\n",
    "        for line in file:\n",
    "            line_dict = json.loads(line.strip())\n",
    "            e1 = line_dict[\"e1\"].lower()\n",
    "            e2 = line_dict[\"e2\"].lower()\n",
    "            e1_cate = file_name.split(\"_\")[0]\n",
    "            e2_cate = file_name.split(\"_\")[1]\n",
    "            e1_e2_combine = e1 + \"####\" + e2\n",
    "            if (e1_e2_combine not in entity_combine_list) and (e1_cate != 'gene') and (e2_cate != 'gene'):\n",
    "                fl.write(json.dumps(line_dict) + '\\n')\n",
    "                new_relation_count += 1\n",
    "        print(new_relation_count)\n",
    "        \n"
   ]
  },
  {
   "cell_type": "code",
   "execution_count": 4,
   "metadata": {},
   "outputs": [
    {
     "name": "stdout",
     "output_type": "stream",
     "text": [
      "30544090\n"
     ]
    }
   ],
   "source": [
    "print(new_relation_count)"
   ]
  },
  {
   "cell_type": "code",
   "execution_count": 5,
   "metadata": {},
   "outputs": [
    {
     "name": "stdout",
     "output_type": "stream",
     "text": [
      "y\n"
     ]
    }
   ],
   "source": [
    "print(\"y\")"
   ]
  },
  {
   "cell_type": "code",
   "execution_count": 6,
   "metadata": {},
   "outputs": [
    {
     "name": "stdout",
     "output_type": "stream",
     "text": [
      "14470802\n"
     ]
    }
   ],
   "source": [
    "print(len(entity_combine_list))"
   ]
  },
  {
   "cell_type": "code",
   "execution_count": null,
   "metadata": {},
   "outputs": [],
   "source": []
  }
 ],
 "metadata": {
  "kernelspec": {
   "display_name": "Python 3",
   "language": "python",
   "name": "python3"
  },
  "language_info": {
   "codemirror_mode": {
    "name": "ipython",
    "version": 3
   },
   "file_extension": ".py",
   "mimetype": "text/x-python",
   "name": "python",
   "nbconvert_exporter": "python",
   "pygments_lexer": "ipython3",
   "version": "3.7.3"
  }
 },
 "nbformat": 4,
 "nbformat_minor": 2
}
